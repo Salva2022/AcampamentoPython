{
  "nbformat": 4,
  "nbformat_minor": 0,
  "metadata": {
    "colab": {
      "name": "23-3.ipynb",
      "provenance": [],
      "collapsed_sections": []
    },
    "kernelspec": {
      "name": "python3",
      "display_name": "Python 3"
    },
    "language_info": {
      "name": "python"
    }
  },
  "cells": [
    {
      "cell_type": "code",
      "execution_count": 7,
      "metadata": {
        "colab": {
          "base_uri": "https://localhost:8080/"
        },
        "id": "_majmejyUwpY",
        "outputId": "580c76e8-e9c3-4dc7-fad0-323f5fee7b0e"
      },
      "outputs": [
        {
          "output_type": "stream",
          "name": "stdout",
          "text": [
            "Quantas dezenas você deseja jogar?: 6\n",
            "Foram gerados os seguintes números:\n",
            "16 - 24 - 29 - 30 - 40 - 59\n"
          ]
        }
      ],
      "source": [
        "from random import randint\n",
        "quantidade = int(input('Quantas dezenas você deseja jogar?: '))\n",
        "resultado = []\n",
        "cont = 0\n",
        "print(f'Foram gerados os seguintes números:')\n",
        "while cont < quantidade:\n",
        "    n = randint(1, 60)\n",
        "    if n not in resultado:\n",
        "        cont += 1\n",
        "        resultado.append(n)\n",
        "    else:\n",
        "        n = randint(1, 60)\n",
        "print(*(sorted(resultado)), sep=' - ')"
      ]
    }
  ]
}