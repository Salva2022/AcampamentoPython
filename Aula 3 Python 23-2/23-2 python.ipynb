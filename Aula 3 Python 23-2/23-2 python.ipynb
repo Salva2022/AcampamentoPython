{
  "nbformat": 4,
  "nbformat_minor": 0,
  "metadata": {
    "colab": {
      "name": "Untitled3.ipynb",
      "provenance": [],
      "collapsed_sections": []
    },
    "kernelspec": {
      "name": "python3",
      "display_name": "Python 3"
    },
    "language_info": {
      "name": "python"
    }
  },
  "cells": [
    {
      "cell_type": "code",
      "execution_count": 3,
      "metadata": {
        "colab": {
          "base_uri": "https://localhost:8080/"
        },
        "id": "ob7HUPE4oeFk",
        "outputId": "bc48875b-7ac4-45d6-b91d-5430f2aafe6f"
      },
      "outputs": [
        {
          "output_type": "stream",
          "name": "stdout",
          "text": [
            "Digite o valor da compra:500\n",
            "Digite a qtd de notas R$50:10\n",
            "Digite a qtd de notas R$20:10\n",
            "Digite a qtd de notas R$10:10\n",
            "Digite a qtd de notas R$5:10\n",
            "Sua compra de foi de R$500.00 o cliente forneceu R$ 850.00 e seu troco é de R$350.00\n"
          ]
        }
      ],
      "source": [
        "val = float(input(\"Digite o valor da compra:\"))\n",
        "n50 = int(input(\"Digite a qtd de notas R$50:\"))\n",
        "n20 = int(input(\"Digite a qtd de notas R$20:\"))\n",
        "n10 = int(input(\"Digite a qtd de notas R$10:\"))\n",
        "n5 = int(input(\"Digite a qtd de notas R$5:\"))\n",
        "\n",
        "\n",
        "dinheiro = n50*50 + n20*20 + n10*10 + n5*5\n",
        "troco = dinheiro - val\n",
        "\n",
        "if troco >= 0:\n",
        "  print(f\"Sua compra de foi de R${val:.2f} o cliente forneceu R$ {dinheiro:.2f} e seu troco é de R${troco:.2F}\")\n",
        "else:\n",
        "  print(f\"Sua compra de foi de R${val:.2f} o cliente forneceu R$ {dinheiro:.2f} sendo insuficiente este valor\")"
      ]
    },
    {
      "cell_type": "code",
      "source": [
        "#objetivo calcular a raiz quadrada\n",
        "import math\n",
        "\n",
        "x = float(input(\"Digite um número real: \"))\n",
        "\n",
        "if x >= 0: #se x for maior que 0 faça o que está a seguir\n",
        "  y = math.sqrt(x) #math.sqrt() tira a  raiz quadrada \n",
        "\n",
        "  print(\"A raiz é: \",y) \n",
        "else: #senão...caso contrário faça  que está a seguir\n",
        "  print(\"Não existe raiz número negativo\")\n",
        "print(\"quando essa linha será executada\")\n",
        "\n",
        "# a tecla tab gera uma identação"
      ],
      "metadata": {
        "colab": {
          "base_uri": "https://localhost:8080/"
        },
        "id": "zbXrEnoU3bhP",
        "outputId": "b78f20a5-1962-4804-de21-3f653157fa18"
      },
      "execution_count": 29,
      "outputs": [
        {
          "output_type": "stream",
          "name": "stdout",
          "text": [
            "Digite um número real: 4\n",
            "A raiz é:  2.0\n"
          ]
        }
      ]
    },
    {
      "cell_type": "code",
      "source": [
        "etanol = float(input(\"Digite o preço do etanol: \"))\n",
        "gasolina = float(input(\"Digite o preço da gasolina: \"))\n",
        "x = (etanol / gasolina) * 100\n",
        "print(f\"O preço do etanol está {x:.2f} % do preço da gasolina\")\n",
        "if (x > 70):\n",
        "  print(\"Abasteça com gasolina.\")\n",
        "else:\n",
        "  print(\"Abasteça com etanol.\")"
      ],
      "metadata": {
        "colab": {
          "base_uri": "https://localhost:8080/"
        },
        "id": "M707Q-Ur7NZj",
        "outputId": "e984c0dd-36f7-4259-da59-401d0e056117"
      },
      "execution_count": 30,
      "outputs": [
        {
          "output_type": "stream",
          "name": "stdout",
          "text": [
            "Digite o preço do etanol: 5\n",
            "Digite o preço da gasolina: 6\n",
            "O preço do etanol está 83.33 % do preço da gasolina\n",
            "Abasteça com gasolina.\n"
          ]
        }
      ]
    },
    {
      "cell_type": "code",
      "source": [
        "n1 = float(input(\"Digite a nota da primeira prova: \"))\n",
        "n2 = float(input(\"Digite a nota da segunda prova: \"))\n",
        "n3 = float(input(\"Digite a nota da terceira prova: \"))\n",
        "media = (n1+n2+n3) / 3\n",
        "print(f\"Sua média foi de: {media:.2f}\" )\n",
        "if (media >= 70):\n",
        "    print(\"Você foi aprovado!\")\n",
        "else:\n",
        "    print(\"Você foi reprovado!\")"
      ],
      "metadata": {
        "colab": {
          "base_uri": "https://localhost:8080/"
        },
        "id": "A8aCIdS8HdLX",
        "outputId": "a494a276-5fa7-482a-c8f2-243b1e2e2f5e"
      },
      "execution_count": 8,
      "outputs": [
        {
          "output_type": "stream",
          "name": "stdout",
          "text": [
            "Digite a nota da primeira prova: 65\n",
            "Digite a nota da segunda prova: 75\n",
            "Digite a nota da terceira prova: 80\n",
            "Sua média foi de: 73.33\n",
            "Você foi aprovado!\n"
          ]
        }
      ]
    }
  ]
}