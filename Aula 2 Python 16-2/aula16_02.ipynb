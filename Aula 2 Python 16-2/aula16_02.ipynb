{
  "nbformat": 4,
  "nbformat_minor": 0,
  "metadata": {
    "colab": {
      "name": "aula16-02.ipynb",
      "provenance": [],
      "collapsed_sections": [],
      "toc_visible": true
    },
    "kernelspec": {
      "name": "python3",
      "display_name": "Python 3"
    },
    "language_info": {
      "name": "python"
    }
  },
  "cells": [
    {
      "cell_type": "code",
      "execution_count": null,
      "metadata": {
        "colab": {
          "base_uri": "https://localhost:8080/"
        },
        "id": "OROlK6MxnYQU",
        "outputId": "b4387e20-a230-4845-dcd9-9bd9d9659fb8"
      },
      "outputs": [
        {
          "output_type": "stream",
          "name": "stdout",
          "text": [
            "Olá estou no acampamento Python\n",
            "4\n",
            "88.5\n",
            "Olá eu tenho 34 / 2 laranjas \n",
            "\n",
            "O resultado da operação 9**3 =  729 \n",
            "e o valor de 9**4 6561\n"
          ]
        }
      ],
      "source": [
        "print(\"Olá estou no acampamento Python\") #strings são palavras\n",
        "print(2+2)\n",
        "print(2*3 / (4/5) + 9**2) \n",
        "print(\"Olá eu tenho 34 / 2 laranjas \\n\") #\\n é um caracter de escape salte um linha\n",
        "print(\"O resultado da operação 9**3 = \",9**3,\"\\ne o valor de 9**4\",9**4)"
      ]
    },
    {
      "cell_type": "markdown",
      "source": [
        "O objetivo construir um algoritmo que calcule a velocidade de um corpo dados seu deslocamento e tempo"
      ],
      "metadata": {
        "id": "dGnrp8C5s1c8"
      }
    },
    {
      "cell_type": "code",
      "source": [
        "x = 30 #x é o nome da variável e 30 é seu valor ou conteúdo\n",
        "nome = \"sarah\" #atribuir a variável nome o valor sarah ou então nome recebe sarah\n",
        "# nome s de variável NÃO pode ter espaço, acento, caracter especial\n",
        "var_1 = 123.8 #Tem que usar ponto não vírgula\n",
        "print(var_1)\n",
        "\n",
        "print(type(x))\n",
        "print(type(var_1))"
      ],
      "metadata": {
        "colab": {
          "base_uri": "https://localhost:8080/"
        },
        "id": "7VY63fWSsyiO",
        "outputId": "171aba1e-80da-4e38-b82e-56ba5d67fdb5"
      },
      "execution_count": null,
      "outputs": [
        {
          "output_type": "stream",
          "name": "stdout",
          "text": [
            "123.8\n",
            "<class 'int'>\n",
            "<class 'float'>\n"
          ]
        }
      ]
    },
    {
      "cell_type": "code",
      "source": [
        "distancia = 30.2e6 #30.2 vezes 10 elevado a 6\n",
        "tempo = 456.87 #float são números decimais\n",
        "velocidade = distancia/tempo\n",
        "print(\"A velocidade do corpo é de\", velocidade,\"m/s\")\n",
        "#para retirar as casas decimais vamos usar formatação de strings\n",
        "print(f\"A velocidade do corpo é de {velocidade} m/s\")\n",
        "print(f\"A velocidade do corpo é de {velocidade:.2f} m/s\")\n",
        "print(f\"A velocidade do corpo é de {velocidade:.2e} m/s\")"
      ],
      "metadata": {
        "colab": {
          "base_uri": "https://localhost:8080/"
        },
        "id": "gsuD_eCmvmYX",
        "outputId": "c1cfbd8f-e719-4b05-bcd0-5842a6241306"
      },
      "execution_count": null,
      "outputs": [
        {
          "output_type": "stream",
          "name": "stdout",
          "text": [
            "A velocidade do corpo é de 66101.95460415435 m/s\n",
            "A velocidade do corpo é de 66101.95460415435 m/s\n",
            "A velocidade do corpo é de 66101.95 m/s\n",
            "A velocidade do corpo é de 6.61e+04 m/s\n"
          ]
        }
      ]
    },
    {
      "cell_type": "code",
      "source": [
        "import math\n",
        "print(math.cos(math.degrees(33)))\n",
        "print(math.cos(math.radians(33)))\n",
        "print(f\"o fatorial de 12 é {math.factorial(12)}\")"
      ],
      "metadata": {
        "colab": {
          "base_uri": "https://localhost:8080/"
        },
        "id": "ehPHtQ2Y1oVy",
        "outputId": "5173c34f-3806-46df-f4fd-ca94d785d324"
      },
      "execution_count": null,
      "outputs": [
        {
          "output_type": "stream",
          "name": "stdout",
          "text": [
            "0.8878920815292363\n",
            "0.838670567945424\n",
            "o fatorial de 12 é 479001600\n"
          ]
        }
      ]
    },
    {
      "cell_type": "markdown",
      "source": [
        "\n",
        "\n",
        "Crie um algoritmo em Python que execute as seguintes tarefas:  Armazene em uma variável a quantidade de dias em um ano (não bissexto); Calcule e armazene em outra variável a quantidade de horas em um ano; Calcule e armazene em outra variável a quantidade de minutos em um ano;\n",
        "Calcule e armazene em outra variável a quantidade de segundos em um ano;\n",
        "\n",
        "Mostre na tela uma mensagem do tipo\n",
        "\n",
        "Um ano tem ... dias, ... horas, ... minutos e ...segundos;\n"
      ],
      "metadata": {
        "id": "x1r1GQHa5bpa"
      }
    },
    {
      "cell_type": "code",
      "source": [
        "x = 365\n",
        "var_1 = 365 * 24\n",
        "var_2 = var_1 * 60\n",
        "var_3 = var_2 * 60\n",
        "print(f\"Um ano tem {x} dias, {var_1} horas, {var_2} minutos e {var_3} segundos\")\n"
      ],
      "metadata": {
        "colab": {
          "base_uri": "https://localhost:8080/"
        },
        "id": "C_Py-0PA4EDc",
        "outputId": "9449d344-67ba-4105-eddd-3adc3dbcd5a7"
      },
      "execution_count": null,
      "outputs": [
        {
          "output_type": "stream",
          "name": "stdout",
          "text": [
            "Um ano tem 365 dias, 8760 horas, 525600 minutos e 31536000 segundos\n"
          ]
        }
      ]
    },
    {
      "cell_type": "markdown",
      "source": [
        "Vamos calcular agora o índice de massa corporal"
      ],
      "metadata": {
        "id": "2bgPwPLw-3ru"
      }
    },
    {
      "cell_type": "code",
      "source": [
        "# o IMC é calculado como IMC = peso/altura\n",
        "# vamos usar float() para converter para decimal\n",
        "# vamos usar int() para converter para inteiro\n",
        "peso = float(input(\"Digite o seu peso: \"))\n",
        "altura = float(input(\"Digite a sua altura: \"))\n",
        "IMC = peso/altura**2\n",
        "print(\"O seu IMC é:\",IMC)"
      ],
      "metadata": {
        "colab": {
          "base_uri": "https://localhost:8080/"
        },
        "id": "_j1xyF7Z-27e",
        "outputId": "9a756bdb-1872-4010-93ba-04b96f22ae1e"
      },
      "execution_count": null,
      "outputs": [
        {
          "output_type": "stream",
          "name": "stdout",
          "text": [
            "Digite o seu peso: 90\n",
            "Digite a sua altura: 1.74\n",
            "O seu IMC é: 29.72651605231867\n"
          ]
        }
      ]
    },
    {
      "cell_type": "markdown",
      "source": [
        "Crie um algoritmo em Python que solicite ao usuário para digitar o valor total de uma compra de supermercado. Depois peça ao usuário para digitar (separadamente) a quantidade de notas de 50, 20, 10 e 5 reais fornecidas pelo cliente. Por fim o algoritmo deve mostrar o valor do troco a ser dado ao cliente\n",
        "\n",
        "Veja exemplo de execução ao lado. (valores em vermelho são digitados pelo usuário)\n"
      ],
      "metadata": {
        "id": "ECo45o3_BbRw"
      }
    },
    {
      "cell_type": "code",
      "source": [
        "compra = float(input(\"Digite o valor da compra: R$ \"))\n",
        "notas50 =   int(input(\"Digite a quantidade de notas de R$50,00: \"))\n",
        "notas20 =   int(input(\"Digite a quantidade de notas de R$20,00: \"))\n",
        "notas10 =   int(input(\"Digite a quantidade de notas de R$10,00: \"))\n",
        "notas5 =   int(input(\"Digite a quantidade de notas de R$5,00: \"))\n",
        "pago =  (50 * notas50 + 20 * notas20 + 10 * notas10 + 5 * notas5)\n",
        "diferença = pago - compra\n",
        "print(f\"Prezado cliente sua compra foi de R$ {compra:.2F}, você entregou R$ {pago:.2F} e seu troco é de R$ {diferença:.2F}\")"
      ],
      "metadata": {
        "colab": {
          "base_uri": "https://localhost:8080/"
        },
        "id": "UufPK4EGBZeR",
        "outputId": "a2962cb3-1cda-41cf-b94e-ce0893ab064f"
      },
      "execution_count": null,
      "outputs": [
        {
          "output_type": "stream",
          "name": "stdout",
          "text": [
            "Digite o valor da compra: R$ 100\n",
            "Digite a quantidade de notas de R$50,00: 2\n",
            "Digite a quantidade de notas de R$20,00: 0\n",
            "Digite a quantidade de notas de R$10,00: 1\n",
            "Digite a quantidade de notas de R$5,00: 1\n",
            "Prezado cliente sua compra foi de R$ 100.00, você entregou R$ 115.00 e seu troco é de R$ 15.00\n"
          ]
        }
      ]
    }
  ]
}