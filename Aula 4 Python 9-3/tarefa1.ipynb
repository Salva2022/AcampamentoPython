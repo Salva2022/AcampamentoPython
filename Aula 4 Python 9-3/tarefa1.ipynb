{
  "nbformat": 4,
  "nbformat_minor": 0,
  "metadata": {
    "colab": {
      "name": "tarefa1.ipynb",
      "provenance": []
    },
    "kernelspec": {
      "name": "python3",
      "display_name": "Python 3"
    },
    "language_info": {
      "name": "python"
    }
  },
  "cells": [
    {
      "cell_type": "code",
      "execution_count": null,
      "metadata": {
        "id": "xd18539QUfVK"
      },
      "outputs": [],
      "source": [
        "Jogador1 = input(\"Joga? \")\n",
        "Jogador2 = input(\"Joga? \")\n",
        "\n",
        "if Jogador1 == 'r' and Jogador2 =='t':\n",
        "  print(\"Jogador 1 venceu!\")\n",
        "elif Jogador1 == 't' and Jogador2 =='r':\n",
        "  print(\"Jogador 2 venceu!\")\n",
        "elif Jogador1 == 'p' and Jogador2 =='r':\n",
        "  print(\"Jogador 1 venceu!\")\n",
        "elif Jogador1 == 'r' and Jogador2 =='p':\n",
        "  print(\"Jogador 2 venceu!\")\n",
        "elif Jogador1 == 'r' and Jogador2 =='r':\n",
        "  print(\"Deu empate!\")\n",
        "elif Jogador1 == 't' and Jogador2 =='t':\n",
        "  print(\"Deu empate!\")\n",
        "elif Jogador1 == 'p' and Jogador2 =='p':\n",
        "  print(\"Deu empate!\")\n",
        "else:\n",
        "  print(\"Símbolos inválidos foram digitados\")"
      ]
    }
  ]
}