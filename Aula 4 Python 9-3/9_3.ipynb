{
  "nbformat": 4,
  "nbformat_minor": 0,
  "metadata": {
    "colab": {
      "name": "9-3.ipynb",
      "provenance": []
    },
    "kernelspec": {
      "name": "python3",
      "display_name": "Python 3"
    },
    "language_info": {
      "name": "python"
    }
  },
  "cells": [
    {
      "cell_type": "code",
      "execution_count": null,
      "metadata": {
        "colab": {
          "base_uri": "https://localhost:8080/"
        },
        "id": "TpYeqVPbIvmy",
        "outputId": "d648466e-b764-4c67-bee1-fd34cab43fe3"
      },
      "outputs": [
        {
          "output_type": "stream",
          "name": "stdout",
          "text": [
            "Digite a nota da primeira prova: 70\n",
            "Digite a nota da segunda prova: 70\n",
            "Digite a nota da terceira prova: 70\n",
            "Sua média foi de: 70.00\n",
            "Você foi aprovado!\n"
          ]
        }
      ],
      "source": [
        "n1 = float(input(\"Digite a nota da primeira prova: \"))\n",
        "n2 = float(input(\"Digite a nota da segunda prova: \"))\n",
        "n3 = float(input(\"Digite a nota da terceira prova: \"))\n",
        "media = (n1+n2+n3) / 3\n",
        "print(f\"Sua média foi de: {media:.2f}\" )\n",
        "if (media >= 70):\n",
        "    print(\"Você foi aprovado!\")\n",
        "else:\n",
        "    print(\"Você foi reprovado!\")"
      ]
    },
    {
      "cell_type": "markdown",
      "source": [
        "Agora para o aluno ser aprovado vamos considerar também a frequência. Se o aluno tiver 75% ou mais de frequência ele será aprovado. Mas ainda vale o critério da nota."
      ],
      "metadata": {
        "id": "x9tC-FXjI6f7"
      }
    },
    {
      "cell_type": "code",
      "source": [
        "n1 = float(input(\"Digite a nota da primeira prova: \"))\n",
        "n2 = float(input(\"Digite a nota da segunda prova: \"))\n",
        "n3 = float(input(\"Digite a nota da terceira prova: \"))\n",
        "freq = float(input(\"Digite a frequência(%): \"))\n",
        "media = (n1+n2+n3) / 3\n",
        "print(f\"Sua média foi de: {media:.2f} e a frequência foi {freq:.1f}\" )\n",
        "if media >= 70 and freq >=75:\n",
        "    print(\"Você foi aprovado!\")\n",
        "else:\n",
        "    print(\"Você foi reprovado!\")"
      ],
      "metadata": {
        "colab": {
          "base_uri": "https://localhost:8080/"
        },
        "id": "Cjgp03gvJR-j",
        "outputId": "3e44caa2-e119-44ba-e987-80e8441eedc0"
      },
      "execution_count": null,
      "outputs": [
        {
          "output_type": "stream",
          "name": "stdout",
          "text": [
            "Digite a nota da primeira prova: 80\n",
            "Digite a nota da segunda prova: 80\n",
            "Digite a nota da terceira prova: 80\n",
            "Digite a frequência(%): 80\n",
            "Sua média foi de: 80.00 e a frequência foi 80.0\n",
            "Você foi aprovado!\n"
          ]
        }
      ]
    },
    {
      "cell_type": "code",
      "source": [
        "print('Sérgio' > 'Luana') #comparando ordem alfabética S vem depois do L então S >L"
      ],
      "metadata": {
        "id": "ss9rWqE4MigU"
      },
      "execution_count": null,
      "outputs": []
    },
    {
      "cell_type": "markdown",
      "source": [
        "Fazer um algoritmo que coloque na tela a mensagem: Eu uso L'Oreal"
      ],
      "metadata": {
        "id": "yh29BorWMwoj"
      }
    },
    {
      "cell_type": "code",
      "source": [
        "print(\"Eu uso L'oreal\")\n",
        "query = (\"SELECT DataInicio FROM Cursos Where CursoData > '2022-01-01'\")"
      ],
      "metadata": {
        "colab": {
          "base_uri": "https://localhost:8080/"
        },
        "id": "GGWFDLAWM2WT",
        "outputId": "ff84ce61-a438-4a16-8757-fceb0b1b1f78"
      },
      "execution_count": null,
      "outputs": [
        {
          "output_type": "stream",
          "name": "stdout",
          "text": [
            "Eu uso L'oreal\n"
          ]
        }
      ]
    },
    {
      "cell_type": "code",
      "source": [
        "nome1 = input(\"Digite o primeiro nome: \")\n",
        "nome2 = input(\"Digite o primeiro nome: \")\n",
        "nome3 = input(\"Digite o primeiro nome: \")\n",
        "if nome1 <= nome2 and nome2 <= nome3:\n",
        "  print(\"Está em ordem\")\n",
        "else:\n",
        "  print(\"Não está em ordem..\")"
      ],
      "metadata": {
        "colab": {
          "base_uri": "https://localhost:8080/"
        },
        "id": "p_GSp-rCNSH6",
        "outputId": "9155f78f-18b9-4c51-f5b1-3388183903eb"
      },
      "execution_count": 24,
      "outputs": [
        {
          "output_type": "stream",
          "name": "stdout",
          "text": [
            "Digite o primeiro nome: ana\n",
            "Digite o primeiro nome: beatriz\n",
            "Digite o primeiro nome: ze\n",
            "Está em ordem\n"
          ]
        }
      ]
    },
    {
      "cell_type": "code",
      "source": [
        "n1 = float(input(\"Digite a nota 1: \"))\n",
        "n2 = float(input(\"Digite a nota 2: \"))\n",
        "n3 = float(input(\"Digite a nota 3: \"))\n",
        "freq = float(input(\"Digite a frequência(%): \")) #quanto por cento das aulas o aluno frequentou?\n",
        "media = (n1+n2+n3)/3\n",
        "\n",
        "print(f\"Sua nota final foi: {media:.1f} e a frequ~encia foi {freq:.1f}.\")\n",
        "\n",
        "if freq < 75:\n",
        "  print(\"Aluno Reprovado por frequência.\")\n",
        "elif media < 40:\n",
        "  print(\"Você foi reprovado com conceito E\")\n",
        "elif media < 70:\n",
        "  print(\"Você está exame especial seu conceito é D\")\n",
        "elif media < 80:\n",
        "  print(\"Você está aprovado com conceito C\")\n",
        "elif media < 90:\n",
        "  print(\"Você está aprovado com conceito B\")\n",
        "else:\n",
        "  print(\"Você é estrela conceito A!\")"
      ],
      "metadata": {
        "colab": {
          "base_uri": "https://localhost:8080/"
        },
        "id": "TanwVr3iOjUp",
        "outputId": "299dfdb0-2514-40d0-8d1b-4c4917528684"
      },
      "execution_count": null,
      "outputs": [
        {
          "output_type": "stream",
          "name": "stdout",
          "text": [
            "Digite a nota 1: 80\n",
            "Digite a nota 2: 80\n",
            "Digite a nota 3: 80\n",
            "Digite a frequência(%): 80\n",
            "Sua nota final foi: 80.0 e a frequ~encia foi 80.0.\n",
            "Você está aprovado com conceito B\n"
          ]
        }
      ]
    },
    {
      "cell_type": "code",
      "source": [
        "Jogador1 = input(\"Joga? \")\n",
        "Jogador2 = input(\"Joga? \")\n",
        "\n",
        "if Jogador1 == 'r' and Jogador2 =='t':\n",
        "  print(\"Jogador 1 venceu!\")\n",
        "elif Jogador1 == 't' and Jogador2 =='r':\n",
        "  print(\"Jogador 2 venceu!\")\n",
        "elif Jogador1 == 'p' and Jogador2 =='r':\n",
        "  print(\"Jogador 1 venceu!\")\n",
        "elif Jogador1 == 'r' and Jogador2 =='p':\n",
        "  print(\"Jogador 2 venceu!\")\n",
        "elif Jogador1 == 'r' and Jogador2 =='r':\n",
        "  print(\"Deu empate!\")\n",
        "elif Jogador1 == 't' and Jogador2 =='t':\n",
        "  print(\"Deu empate!\")\n",
        "elif Jogador1 == 'p' and Jogador2 =='p':\n",
        "  print(\"Deu empate!\")\n",
        "else:\n",
        "  print(\"Símbolos inválidos foram digitados\")"
      ],
      "metadata": {
        "colab": {
          "base_uri": "https://localhost:8080/"
        },
        "id": "xuUuyuoCROu8",
        "outputId": "a7fc7e1d-700e-42ae-dfa1-65cdbacb60c9"
      },
      "execution_count": null,
      "outputs": [
        {
          "output_type": "stream",
          "name": "stdout",
          "text": [
            "Joga? t\n",
            "Joga? t\n",
            "Deu empate!\n"
          ]
        }
      ]
    }
  ]
}